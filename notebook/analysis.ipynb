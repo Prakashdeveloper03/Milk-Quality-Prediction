{
 "cells": [
  {
   "cell_type": "markdown",
   "id": "946a2054-84f2-49b2-96ab-96c0789506d5",
   "metadata": {
    "id": "c0fe1e05-cf01-47ff-8d7d-8d9c12ab036b",
    "tags": []
   },
   "source": [
    "## Import Required Packages"
   ]
  },
  {
   "cell_type": "code",
   "execution_count": 1,
   "id": "78c7d931-0a3a-418c-8210-d3962157d4f2",
   "metadata": {
    "id": "4c966020-754c-4f7f-af4e-ac7eaf039fc7"
   },
   "outputs": [],
   "source": [
    "import warnings\n",
    "import numpy as np\n",
    "import pandas as pd\n",
    "import seaborn as sns\n",
    "import matplotlib.pyplot as plt\n",
    "\n",
    "warnings.filterwarnings(\"ignore\")"
   ]
  },
  {
   "cell_type": "markdown",
   "id": "947c112a-75e2-4437-a0e1-19086cfaa4c2",
   "metadata": {
    "id": "e7725af7-72e3-487a-bfba-b3ffbc00218c"
   },
   "source": [
    "## Load the dataset"
   ]
  },
  {
   "cell_type": "code",
   "execution_count": 2,
   "id": "fee224e5-df63-4e10-8a26-60c846414057",
   "metadata": {
    "colab": {
     "base_uri": "https://localhost:8080/",
     "height": 206
    },
    "id": "bd7e879c-aaca-4b75-9824-e66bb64f54c4",
    "outputId": "12c8f066-68c5-4fa5-cd23-fc03c79b3f43"
   },
   "outputs": [
    {
     "data": {
      "text/html": [
       "<div>\n",
       "<style scoped>\n",
       "    .dataframe tbody tr th:only-of-type {\n",
       "        vertical-align: middle;\n",
       "    }\n",
       "\n",
       "    .dataframe tbody tr th {\n",
       "        vertical-align: top;\n",
       "    }\n",
       "\n",
       "    .dataframe thead th {\n",
       "        text-align: right;\n",
       "    }\n",
       "</style>\n",
       "<table border=\"1\" class=\"dataframe\">\n",
       "  <thead>\n",
       "    <tr style=\"text-align: right;\">\n",
       "      <th></th>\n",
       "      <th>pH</th>\n",
       "      <th>Temprature</th>\n",
       "      <th>Taste</th>\n",
       "      <th>Odor</th>\n",
       "      <th>Fat</th>\n",
       "      <th>Turbidity</th>\n",
       "      <th>Colour</th>\n",
       "      <th>Grade</th>\n",
       "    </tr>\n",
       "  </thead>\n",
       "  <tbody>\n",
       "    <tr>\n",
       "      <th>0</th>\n",
       "      <td>6.6</td>\n",
       "      <td>35</td>\n",
       "      <td>1</td>\n",
       "      <td>0</td>\n",
       "      <td>1</td>\n",
       "      <td>0</td>\n",
       "      <td>254</td>\n",
       "      <td>high</td>\n",
       "    </tr>\n",
       "    <tr>\n",
       "      <th>1</th>\n",
       "      <td>6.6</td>\n",
       "      <td>36</td>\n",
       "      <td>0</td>\n",
       "      <td>1</td>\n",
       "      <td>0</td>\n",
       "      <td>1</td>\n",
       "      <td>253</td>\n",
       "      <td>high</td>\n",
       "    </tr>\n",
       "    <tr>\n",
       "      <th>2</th>\n",
       "      <td>8.5</td>\n",
       "      <td>70</td>\n",
       "      <td>1</td>\n",
       "      <td>1</td>\n",
       "      <td>1</td>\n",
       "      <td>1</td>\n",
       "      <td>246</td>\n",
       "      <td>low</td>\n",
       "    </tr>\n",
       "    <tr>\n",
       "      <th>3</th>\n",
       "      <td>9.5</td>\n",
       "      <td>34</td>\n",
       "      <td>1</td>\n",
       "      <td>1</td>\n",
       "      <td>0</td>\n",
       "      <td>1</td>\n",
       "      <td>255</td>\n",
       "      <td>low</td>\n",
       "    </tr>\n",
       "    <tr>\n",
       "      <th>4</th>\n",
       "      <td>6.6</td>\n",
       "      <td>37</td>\n",
       "      <td>0</td>\n",
       "      <td>0</td>\n",
       "      <td>0</td>\n",
       "      <td>0</td>\n",
       "      <td>255</td>\n",
       "      <td>medium</td>\n",
       "    </tr>\n",
       "  </tbody>\n",
       "</table>\n",
       "</div>"
      ],
      "text/plain": [
       "    pH  Temprature  Taste  Odor  Fat   Turbidity  Colour   Grade\n",
       "0  6.6          35      1     0     1          0     254    high\n",
       "1  6.6          36      0     1     0          1     253    high\n",
       "2  8.5          70      1     1     1          1     246     low\n",
       "3  9.5          34      1     1     0          1     255     low\n",
       "4  6.6          37      0     0     0          0     255  medium"
      ]
     },
     "execution_count": 2,
     "metadata": {},
     "output_type": "execute_result"
    }
   ],
   "source": [
    "# Reading Dataset\n",
    "df = pd.read_csv(\"../data/data.csv\")\n",
    "\n",
    "# displays the top 5 columns of the dataframe\n",
    "df.head()"
   ]
  },
  {
   "cell_type": "markdown",
   "id": "fbc20606-0150-4d06-b2ca-d46ba8a7f2b9",
   "metadata": {
    "id": "bd4cb1e8-2596-4613-96ac-ff8a4c6b6e15"
   },
   "source": [
    "## Understanding the Dataset"
   ]
  },
  {
   "cell_type": "code",
   "execution_count": 3,
   "id": "41a2ccd9-1a80-4820-810d-28a389d59941",
   "metadata": {
    "colab": {
     "base_uri": "https://localhost:8080/"
    },
    "id": "cb25c163-1022-4b97-90bc-1e716ce699b3",
    "outputId": "407c2f47-178b-42e4-e787-2046aac9bcb4"
   },
   "outputs": [
    {
     "data": {
      "text/plain": [
       "(1059, 8)"
      ]
     },
     "execution_count": 3,
     "metadata": {},
     "output_type": "execute_result"
    }
   ],
   "source": [
    "# no of rows and columns in the dataframe\n",
    "df.shape"
   ]
  },
  {
   "cell_type": "code",
   "execution_count": 4,
   "id": "34f4acc4-1f12-40d1-8d0b-7b510a177a32",
   "metadata": {
    "colab": {
     "base_uri": "https://localhost:8080/"
    },
    "id": "06a517ca-b075-4d97-a772-e5d03ec33b17",
    "outputId": "f53bb19c-e869-49c6-f083-15bc5e773ad4"
   },
   "outputs": [
    {
     "data": {
      "text/plain": [
       "Index(['pH', 'Temprature', 'Taste', 'Odor', 'Fat ', 'Turbidity', 'Colour',\n",
       "       'Grade'],\n",
       "      dtype='object')"
      ]
     },
     "execution_count": 4,
     "metadata": {},
     "output_type": "execute_result"
    }
   ],
   "source": [
    "# column names of the dataframe\n",
    "df.columns"
   ]
  },
  {
   "cell_type": "code",
   "execution_count": 5,
   "id": "b3b27388-b484-4e5f-9651-ca15072a4551",
   "metadata": {
    "colab": {
     "base_uri": "https://localhost:8080/"
    },
    "id": "fc67180c-5fb7-44f4-8195-0772dde0eb22",
    "outputId": "a52542e0-4542-4e8a-9a6c-c6cd11ea2536"
   },
   "outputs": [
    {
     "data": {
      "text/plain": [
       "pH            float64\n",
       "Temprature      int64\n",
       "Taste           int64\n",
       "Odor            int64\n",
       "Fat             int64\n",
       "Turbidity       int64\n",
       "Colour          int64\n",
       "Grade          object\n",
       "dtype: object"
      ]
     },
     "execution_count": 5,
     "metadata": {},
     "output_type": "execute_result"
    }
   ],
   "source": [
    "# data types of each column in the dataframe\n",
    "df.dtypes"
   ]
  },
  {
   "cell_type": "code",
   "execution_count": 6,
   "id": "ff1a002d-03c2-4b90-af50-6f493fd970e5",
   "metadata": {
    "colab": {
     "base_uri": "https://localhost:8080/"
    },
    "id": "b445795a-8f81-42f0-b624-43921d417fce",
    "outputId": "8544546a-d4b4-4fef-8fe9-c6ae7435e198"
   },
   "outputs": [
    {
     "name": "stdout",
     "output_type": "stream",
     "text": [
      "<class 'pandas.core.frame.DataFrame'>\n",
      "RangeIndex: 1059 entries, 0 to 1058\n",
      "Data columns (total 8 columns):\n",
      " #   Column      Non-Null Count  Dtype  \n",
      "---  ------      --------------  -----  \n",
      " 0   pH          1059 non-null   float64\n",
      " 1   Temprature  1059 non-null   int64  \n",
      " 2   Taste       1059 non-null   int64  \n",
      " 3   Odor        1059 non-null   int64  \n",
      " 4   Fat         1059 non-null   int64  \n",
      " 5   Turbidity   1059 non-null   int64  \n",
      " 6   Colour      1059 non-null   int64  \n",
      " 7   Grade       1059 non-null   object \n",
      "dtypes: float64(1), int64(6), object(1)\n",
      "memory usage: 66.3+ KB\n"
     ]
    }
   ],
   "source": [
    "# basic info of the dataframe\n",
    "df.info()"
   ]
  },
  {
   "cell_type": "code",
   "execution_count": 7,
   "id": "3dc6d3d9-f763-42bb-bf94-dbf68701b9a2",
   "metadata": {
    "colab": {
     "base_uri": "https://localhost:8080/"
    },
    "id": "5278c3ab-1c8e-4e50-a9c4-a07b074d24b3",
    "outputId": "cc10550a-7825-478d-8fab-479b3c02cf97"
   },
   "outputs": [
    {
     "data": {
      "text/plain": [
       "pH            0\n",
       "Temprature    0\n",
       "Taste         0\n",
       "Odor          0\n",
       "Fat           0\n",
       "Turbidity     0\n",
       "Colour        0\n",
       "Grade         0\n",
       "dtype: int64"
      ]
     },
     "execution_count": 7,
     "metadata": {},
     "output_type": "execute_result"
    }
   ],
   "source": [
    "# counting null values in each column of the dataframe\n",
    "df.isna().sum()"
   ]
  },
  {
   "cell_type": "code",
   "execution_count": 8,
   "id": "df3eb90a-cd21-45be-868c-8732029ec6fd",
   "metadata": {},
   "outputs": [
    {
     "data": {
      "text/plain": [
       "976"
      ]
     },
     "execution_count": 8,
     "metadata": {},
     "output_type": "execute_result"
    }
   ],
   "source": [
    "# checking for any duplicated values\n",
    "df.duplicated().sum()"
   ]
  },
  {
   "cell_type": "code",
   "execution_count": 9,
   "id": "327d3ec8-4322-4f9a-b2ed-44483c5b8a5d",
   "metadata": {
    "colab": {
     "base_uri": "https://localhost:8080/"
    },
    "id": "35ecd649-02b6-439c-90e6-fb8893d23126",
    "outputId": "d961ff67-f2bb-457a-ff0b-906705a33822"
   },
   "outputs": [
    {
     "data": {
      "text/plain": [
       "low       429\n",
       "medium    374\n",
       "high      256\n",
       "Name: Grade, dtype: int64"
      ]
     },
     "execution_count": 9,
     "metadata": {},
     "output_type": "execute_result"
    }
   ],
   "source": [
    "# count values of categorical column 'Grade'\n",
    "df.Grade.value_counts()"
   ]
  },
  {
   "cell_type": "code",
   "execution_count": 10,
   "id": "b1d3b82e-5720-460b-971e-c9be499eaa33",
   "metadata": {
    "colab": {
     "base_uri": "https://localhost:8080/"
    },
    "id": "0e9be470-847a-4cbc-aec3-9022c8a13261",
    "outputId": "d4ec2480-6420-481d-b9d5-5d86100ce7ad"
   },
   "outputs": [
    {
     "data": {
      "text/plain": [
       "low       0.405099\n",
       "medium    0.353163\n",
       "high      0.241737\n",
       "Name: Grade, dtype: float64"
      ]
     },
     "execution_count": 10,
     "metadata": {},
     "output_type": "execute_result"
    }
   ],
   "source": [
    "# percentage of split between the categorical values\n",
    "df.Grade.value_counts(normalize=True)"
   ]
  },
  {
   "cell_type": "code",
   "execution_count": 11,
   "id": "ce3e045a-38e7-4f85-98ae-0696e82bdb68",
   "metadata": {
    "colab": {
     "base_uri": "https://localhost:8080/",
     "height": 300
    },
    "id": "3b2eded5-3c7d-4c88-ae44-e812afa4b0a7",
    "outputId": "97aa2750-fe04-4816-967a-d18a390d7d76"
   },
   "outputs": [
    {
     "data": {
      "text/html": [
       "<div>\n",
       "<style scoped>\n",
       "    .dataframe tbody tr th:only-of-type {\n",
       "        vertical-align: middle;\n",
       "    }\n",
       "\n",
       "    .dataframe tbody tr th {\n",
       "        vertical-align: top;\n",
       "    }\n",
       "\n",
       "    .dataframe thead th {\n",
       "        text-align: right;\n",
       "    }\n",
       "</style>\n",
       "<table border=\"1\" class=\"dataframe\">\n",
       "  <thead>\n",
       "    <tr style=\"text-align: right;\">\n",
       "      <th></th>\n",
       "      <th>count</th>\n",
       "      <th>mean</th>\n",
       "      <th>std</th>\n",
       "      <th>min</th>\n",
       "      <th>25%</th>\n",
       "      <th>50%</th>\n",
       "      <th>75%</th>\n",
       "      <th>max</th>\n",
       "    </tr>\n",
       "  </thead>\n",
       "  <tbody>\n",
       "    <tr>\n",
       "      <th>pH</th>\n",
       "      <td>1059.0</td>\n",
       "      <td>6.630123</td>\n",
       "      <td>1.399679</td>\n",
       "      <td>3.0</td>\n",
       "      <td>6.5</td>\n",
       "      <td>6.7</td>\n",
       "      <td>6.8</td>\n",
       "      <td>9.5</td>\n",
       "    </tr>\n",
       "    <tr>\n",
       "      <th>Temprature</th>\n",
       "      <td>1059.0</td>\n",
       "      <td>44.226629</td>\n",
       "      <td>10.098364</td>\n",
       "      <td>34.0</td>\n",
       "      <td>38.0</td>\n",
       "      <td>41.0</td>\n",
       "      <td>45.0</td>\n",
       "      <td>90.0</td>\n",
       "    </tr>\n",
       "    <tr>\n",
       "      <th>Taste</th>\n",
       "      <td>1059.0</td>\n",
       "      <td>0.546742</td>\n",
       "      <td>0.498046</td>\n",
       "      <td>0.0</td>\n",
       "      <td>0.0</td>\n",
       "      <td>1.0</td>\n",
       "      <td>1.0</td>\n",
       "      <td>1.0</td>\n",
       "    </tr>\n",
       "    <tr>\n",
       "      <th>Odor</th>\n",
       "      <td>1059.0</td>\n",
       "      <td>0.432483</td>\n",
       "      <td>0.495655</td>\n",
       "      <td>0.0</td>\n",
       "      <td>0.0</td>\n",
       "      <td>0.0</td>\n",
       "      <td>1.0</td>\n",
       "      <td>1.0</td>\n",
       "    </tr>\n",
       "    <tr>\n",
       "      <th>Fat</th>\n",
       "      <td>1059.0</td>\n",
       "      <td>0.671388</td>\n",
       "      <td>0.469930</td>\n",
       "      <td>0.0</td>\n",
       "      <td>0.0</td>\n",
       "      <td>1.0</td>\n",
       "      <td>1.0</td>\n",
       "      <td>1.0</td>\n",
       "    </tr>\n",
       "    <tr>\n",
       "      <th>Turbidity</th>\n",
       "      <td>1059.0</td>\n",
       "      <td>0.491029</td>\n",
       "      <td>0.500156</td>\n",
       "      <td>0.0</td>\n",
       "      <td>0.0</td>\n",
       "      <td>0.0</td>\n",
       "      <td>1.0</td>\n",
       "      <td>1.0</td>\n",
       "    </tr>\n",
       "    <tr>\n",
       "      <th>Colour</th>\n",
       "      <td>1059.0</td>\n",
       "      <td>251.840415</td>\n",
       "      <td>4.307424</td>\n",
       "      <td>240.0</td>\n",
       "      <td>250.0</td>\n",
       "      <td>255.0</td>\n",
       "      <td>255.0</td>\n",
       "      <td>255.0</td>\n",
       "    </tr>\n",
       "  </tbody>\n",
       "</table>\n",
       "</div>"
      ],
      "text/plain": [
       "             count        mean        std    min    25%    50%    75%    max\n",
       "pH          1059.0    6.630123   1.399679    3.0    6.5    6.7    6.8    9.5\n",
       "Temprature  1059.0   44.226629  10.098364   34.0   38.0   41.0   45.0   90.0\n",
       "Taste       1059.0    0.546742   0.498046    0.0    0.0    1.0    1.0    1.0\n",
       "Odor        1059.0    0.432483   0.495655    0.0    0.0    0.0    1.0    1.0\n",
       "Fat         1059.0    0.671388   0.469930    0.0    0.0    1.0    1.0    1.0\n",
       "Turbidity   1059.0    0.491029   0.500156    0.0    0.0    0.0    1.0    1.0\n",
       "Colour      1059.0  251.840415   4.307424  240.0  250.0  255.0  255.0  255.0"
      ]
     },
     "execution_count": 11,
     "metadata": {},
     "output_type": "execute_result"
    }
   ],
   "source": [
    "# gives a brief summary stats of the dataframe\n",
    "df.describe().T"
   ]
  },
  {
   "cell_type": "markdown",
   "id": "7b997687-1427-45f8-b734-ae8008e6fd26",
   "metadata": {
    "id": "fc67acc6-f055-422d-b752-62a8456f61bb"
   },
   "source": [
    "## Data Visualization"
   ]
  },
  {
   "cell_type": "code",
   "execution_count": 12,
   "id": "9848c9c5-080b-4d14-a028-7183d82be9ab",
   "metadata": {
    "id": "bc1f7d6a-7655-47dc-bb21-190ab3c7a0da"
   },
   "outputs": [],
   "source": [
    "from scipy import stats\n",
    "from statsmodels.api import qqplot"
   ]
  },
  {
   "cell_type": "code",
   "execution_count": 13,
   "id": "45d163ff-6ded-452c-9fdb-cb7b181c278b",
   "metadata": {
    "id": "7d52fdaa-adcb-42b2-a1c2-650e4e299a0d"
   },
   "outputs": [],
   "source": [
    "# function takes a single dataframe column name as argument and\n",
    "# plots a 2 x 2 subplot contains (histogram, quantile-quantile plot, kernel density estimate plot and cumulative density plot)\n",
    "def plot_distribution(col_name):\n",
    "    fig, axes = plt.subplots(\n",
    "        2, 2, figsize=(15, 10)\n",
    "    )  # sets 2 x 2 subplots with figure size of (14,10)\n",
    "    sns.histplot(\n",
    "        x=col_name, data=df, ax=axes[0][0], bins=20\n",
    "    )  # displays histogram of the given dataframe column\n",
    "    qqplot(\n",
    "        data=df[col_name], ax=axes[0][1], line=\"45\", fit=True, dist=stats.norm\n",
    "    )  # displays quantile-quantile plot of the given dataframe column\n",
    "    sns.kdeplot(\n",
    "        x=col_name, data=df, ax=axes[1][0], fill=True\n",
    "    )  # displays kernel density estimate plot of the given dataframe column\n",
    "    sns.kdeplot(\n",
    "        x=col_name, data=df, ax=axes[1][1], fill=True, cumulative=True\n",
    "    )  # displays cumulative density plot of the given dataframe column\n",
    "    plt.suptitle(\n",
    "        \"Distribution of \" + col_name\n",
    "    )  # sets the title for the subplot as \"Distribution of <column name>\"\n",
    "    plt.show()  # shows the plot"
   ]
  },
  {
   "cell_type": "code",
   "execution_count": 14,
   "id": "e2212bc3-68e0-4787-9e9d-b6f59078f487",
   "metadata": {
    "id": "63330c33-47b8-46be-b590-ddb8da563345"
   },
   "outputs": [],
   "source": [
    "# function takes a single dataframe column name as argument and\n",
    "# plots a 2 x 2 subplot contains (boxplot, violinplot, swarmplot and barplot)\n",
    "def plot_stats(col_name):\n",
    "    fig, axes = plt.subplots(\n",
    "        2, 2, figsize=(15, 10)\n",
    "    )  # sets 2 x 2 subplots with figure size of (14,10)\n",
    "    sns.boxplot(\n",
    "        y=col_name, x=\"Grade\", data=df, ax=axes[0][0]\n",
    "    )  # displays boxplot of the given dataframe column\n",
    "    sns.violinplot(\n",
    "        y=col_name, x=\"Grade\", data=df, ax=axes[0][1], split=True\n",
    "    )  # displays violinplot of the given dataframe column\n",
    "    sns.swarmplot(\n",
    "        y=col_name, x=\"Grade\", data=df, ax=axes[1][0]\n",
    "    )  # displays swarmplot of the given dataframe columns\n",
    "    sns.barplot(\n",
    "        x=col_name, y=\"Grade\", data=df, hue=\"Grade\"\n",
    "    )  # displays barplot of the given dataframe column respect to 'Grade' column\n",
    "    plt.suptitle(\n",
    "        \"Statistics of \" + col_name\n",
    "    )  # sets the title for the subplot as \"Statistics of <column name>\"\n",
    "    plt.show()  # shows the plot"
   ]
  },
  {
   "cell_type": "code",
   "execution_count": 15,
   "id": "d53965fe-a5cd-43f7-b975-3449b00c913c",
   "metadata": {
    "id": "c3d11781-c407-4a30-b14a-f69f5fb0f9b7"
   },
   "outputs": [],
   "source": [
    "# function takes a single dataframe column name as argument and\n",
    "# plots a single plot contains kernel density estimate plot\n",
    "def plot_kde(col_name):\n",
    "    facet = sns.FacetGrid(\n",
    "        df, hue=\"Grade\", aspect=4, palette=\"bright\"\n",
    "    )  # sets a seaborn FacetGrid with hue = \"Grade\" and palette as \"bright\"\n",
    "    facet.map(\n",
    "        sns.kdeplot, col_name, shade=True\n",
    "    )  # kernel density plot of the given dataframe column respect to the dependent column \"Grade\"\n",
    "    facet.set(\n",
    "        xlim=(0, df[col_name].max())\n",
    "    )  # sets the x axis from 0 to maximum value of the column\n",
    "    facet.add_legend()  # add legend to the plot\n",
    "    plt.title(\n",
    "        col_name + \" respect to Grade\"\n",
    "    )  # sets the title for the plot as \"<column name> respect to Grade\"\n",
    "    plt.show()  # shows the plot"
   ]
  },
  {
   "cell_type": "markdown",
   "id": "6eb8c3db-0c2b-4d0d-a4f0-12e226d88ec0",
   "metadata": {
    "id": "e9a6c237-e7be-4ae9-8d2a-fd33aa9cbb4b"
   },
   "source": [
    "### Grade"
   ]
  },
  {
   "cell_type": "code",
   "execution_count": 16,
   "id": "22280b70-5029-4f93-8472-b4fa1ff45a75",
   "metadata": {
    "colab": {
     "base_uri": "https://localhost:8080/",
     "height": 320
    },
    "id": "c980f37c-a6f6-4f5d-99ed-9efea58323a0",
    "outputId": "bb7d28b5-6763-4033-e6b9-28179b1b4c8f"
   },
   "outputs": [
    {
     "data": {
      "image/png": "[encoded data removed]",
      "text/plain": [
       "<Figure size 1008x360 with 2 Axes>"
      ]
     },
     "metadata": {
      "needs_background": "light"
     },
     "output_type": "display_data"
    }
   ],
   "source": [
    "fig, ax = plt.subplots(\n",
    "    nrows=1, ncols=2, figsize=(14, 5)\n",
    ")  # sets 1 x 2 subplots with figure size of (14,5)\n",
    "df.Grade.value_counts().plot.pie(\n",
    "    autopct=\"%.0f%%\", shadow=True, startangle=180, ax=ax[0]\n",
    ")  # plots pie chart of Grade column with % percentage\n",
    "df.Grade.value_counts().plot.barh(\n",
    "    ax=ax[1]\n",
    ")  # plots bar chart of Grade column value counts\n",
    "plt.show()  # shows the plot"
   ]
  }
 ],
 "metadata": {
  "kernelspec": {
   "display_name": "Python 3 (ipykernel)",
   "language": "python",
   "name": "python3"
  },
  "language_info": {
   "codemirror_mode": {
    "name": "ipython",
    "version": 3
   },
   "file_extension": ".py",
   "mimetype": "text/x-python",
   "name": "python",
   "nbconvert_exporter": "python",
   "pygments_lexer": "ipython3",
   "version": "3.10.4"
  }
 },
 "nbformat": 4,
 "nbformat_minor": 5
}
